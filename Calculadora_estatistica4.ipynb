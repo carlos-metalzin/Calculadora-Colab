{
 "cells": [
  {
   "cell_type": "markdown",
   "metadata": {},
   "source": [
    "# Calculadora Estatística \n",
    "###### v: 4.0\n",
    "Programa desenvolvido para utilização na analíse de dados dentro do Laboratório de Física I e para introdução a linguagem de programação, podendo ter outras utilidades.<br>\n",
    " **Autor**: Carlos Augusto  Rodrigues de Oliveira <br>**Orientadoras:** Mariana Pojar & Eliane de Fátima Chinaglia\n",
    " ## Contato\n",
    "\n",
    "Caso queira enviar sugestões ou reportar algum problema entre em contato em: \n",
    "\n",
    "* Email: uniecaoliveira@fei.edu.br\n",
    "* Redes sociais:  \n",
    "    - __[Twitter](https://twitter.com/gustc_carlos)__\n",
    "    - __[Instagram](https://twitter.com/gustc_carlos)__\n",
    "    \n",
    "## Instruções\n",
    "Algumas instruções para utilizar o programa corretamente: \n",
    "1. Para utilizar as linhas de codigo selecione-a e utilize o comando \"run\" no canto superior da sua pagina ou pressionando a tecla f5 \n",
    "2. Lembre-se sempre de deixar o arquivo de dados junto com o arquivo do programa"
   ]
  },
  {
   "attachments": {
    "image.png": {
     "image/png": "[encoded data removed]"
    }
   },
   "cell_type": "markdown",
   "metadata": {},
   "source": [
    "# COMEÇANDO... \n",
    "![image.png](attachment:image.png)\" \n",
    "##  Importando as bibliotecas utilizadas\n",
    "Para otimizar o código utilizamos bibliotecas externas com funcionalides diversas, para consulta-las acesse: \n",
    "- statistics: https://docs.python.org/3.9/library/statistics.html\n",
    "- Pandas: https://pandas.pydata.org/\n",
    "- Numpy https://numpy.org/"
   ]
  },
  {
   "cell_type": "code",
   "execution_count": 1,
   "metadata": {},
   "outputs": [],
   "source": [
    "import numpy as np\n",
    "import statistics as st\n",
    "import pandas as pd"
   ]
  },
  {
   "cell_type": "markdown",
   "metadata": {},
   "source": [
    "## Criando as funções\n",
    "Neste momento vamos trabalhar com o funcionamento do programa."
   ]
  },
  {
   "cell_type": "markdown",
   "metadata": {},
   "source": [
    "### Leitura do arquivo de dados\n",
    "Caso queira analisar um arquivo de dados é necessário utilizar essa função. <br>Para isso lembre-se de deixar seu arquivo na mesma pasta do programa e insira o nome do arquivo (indicando a extensão) entre aspas no campo indicado. "
   ]
  },
  {
   "cell_type": "code",
   "execution_count": 2,
   "metadata": {},
   "outputs": [
    {
     "name": "stdout",
     "output_type": "stream",
     "text": [
      "\n",
      "O dado a seguir estava no seu arquivo de dados e foi ignorado por não ser um valor: \n",
      "a  =  <class 'str'>\n",
      "------------------------------\n"
     ]
    },
    {
     "data": {
      "text/plain": [
       "[7.112926825,\n",
       " 7.775837425,\n",
       " 13.40733748,\n",
       " 7.861622386,\n",
       " 10.94952799,\n",
       " 13.66702393,\n",
       " 8.934669739,\n",
       " 7.765315955,\n",
       " 12.51392249,\n",
       " 19.41998518,\n",
       " 12.07234059,\n",
       " 9.465408064,\n",
       " 11.92808836,\n",
       " 9.746934976,\n",
       " 8.892716307,\n",
       " 9.701006254,\n",
       " 10.81614742,\n",
       " 15.40393194,\n",
       " 11.55944117,\n",
       " 11.936721,\n",
       " 14.43275027,\n",
       " 15.63342776,\n",
       " 12.37482834,\n",
       " 8.009704111,\n",
       " 6.465852016,\n",
       " 10.7747578,\n",
       " 10.81735355,\n",
       " 15.58462419,\n",
       " 12.00896607,\n",
       " 13.72468543,\n",
       " 10.58184905,\n",
       " 12.72827473,\n",
       " 10.26491758,\n",
       " 6.952895634,\n",
       " 7.942183653,\n",
       " 10.97545939,\n",
       " 11.86265774,\n",
       " 10.34744885,\n",
       " 27.9262602,\n",
       " 11.43449947,\n",
       " 20.1753163,\n",
       " 20.72267747,\n",
       " 28.17071167,\n",
       " 9.900811826,\n",
       " 11.39358558,\n",
       " 15.56644939,\n",
       " 10.14623384,\n",
       " 11.70926671,\n",
       " 11.58016736,\n",
       " 13.75953163,\n",
       " 13.47413532,\n",
       " 12.13636868,\n",
       " 11.32062508,\n",
       " 12.07366283,\n",
       " 11.7763267,\n",
       " 10.54060712,\n",
       " 11.98731509,\n",
       " 12.67495883,\n",
       " 9.823829033,\n",
       " 8.044953566,\n",
       " 12.29783355,\n",
       " 11.70493942,\n",
       " 18.39615374,\n",
       " 15.65105731,\n",
       " 5.304171995]"
      ]
     },
     "execution_count": 2,
     "metadata": {},
     "output_type": "execute_result"
    }
   ],
   "source": [
    "def read():\n",
    "    valores = []\n",
    "    arquivo_de_dados = pd.read_csv('aceleração_QuedaLivre.csv', sep=';') #colocar o endereço do seu arquivo aqui\n",
    "    for y in arquivo_de_dados:\n",
    "        try:\n",
    "            y = str(y).replace(',', '.')\n",
    "            float(y)\n",
    "        except:\n",
    "            print()\n",
    "        else:\n",
    "            valores.append(float(y))\n",
    "        for x in arquivo_de_dados[y]:\n",
    "            try:\n",
    "                x = str(x).replace(',', '.')\n",
    "                float(x)\n",
    "            except:\n",
    "                print('O dado a seguir estava no seu arquivo de dados e foi ignorado por não ser um valor: ')\n",
    "                print(x, ' = ', type(x))\n",
    "                print('-' * 30)\n",
    "            else:\n",
    "                valores.append(float(x))\n",
    "    return valores\n",
    "dados = read()\n",
    "dados"
   ]
  },
  {
   "cell_type": "markdown",
   "metadata": {},
   "source": [
    "### Analise preliminar\n",
    "Nesta primeirta etapa vamos obter dados basicos do seu arquivo de dados. É importante que confira as informações referentes aos seus dados para não ocarrer interpretações equivocadas!"
   ]
  },
  {
   "cell_type": "code",
   "execution_count": 3,
   "metadata": {},
   "outputs": [
    {
     "name": "stdout",
     "output_type": "stream",
     "text": [
      "Número de elementos: 65\n",
      "Maior valor: 28.17071167\n",
      "Menor valor: 5.304171995\n"
     ]
    }
   ],
   "source": [
    "print(f'Número de elementos: {len(dados)}\\nMaior valor: {max(dados)}\\nMenor valor: {min(dados)}')"
   ]
  },
  {
   "cell_type": "markdown",
   "metadata": {},
   "source": [
    "### Média aritmética $ \\overline{x} $\n",
    "### $$ \\overline{x} = \\frac{\\sum_{i=1}^{n}x_{i}}{n} \\\\ $$\n",
    "Estima a centralidade do nosso conjunto de dados, podendo representar uma boa estimativa entre o conjunto de valores que nem sempre é confiável."
   ]
  },
  {
   "cell_type": "code",
   "execution_count": 7,
   "metadata": {},
   "outputs": [
    {
     "name": "stdout",
     "output_type": "stream",
     "text": [
      "Média aritmética simples: 12.19\n"
     ]
    }
   ],
   "source": [
    "media = round(st.mean(dados),2) #Escolha o número de casas decimais exibidas aqui\n",
    "print(f'Média aritmética simples: {media}')"
   ]
  },
  {
   "cell_type": "markdown",
   "metadata": {},
   "source": [
    "### Desvio Padrão $ \\sigma $ \n",
    "### $$ \\sigma = \\sqrt{\\frac{\\Sigma (x_{i}-\\overline{x})^2}{n-1}}  $$\n",
    "Expressa a dispersão dos conjunto de dados, ou seja, a partir do **desvio padrão** é possivel avaliar a confiança do seu aquivo de dados. Quanto maior o desvio, menor é a confiança no conjunto de dados. "
   ]
  },
  {
   "cell_type": "code",
   "execution_count": 8,
   "metadata": {},
   "outputs": [
    {
     "name": "stdout",
     "output_type": "stream",
     "text": [
      "Desvio Padrão: 4.199\n"
     ]
    }
   ],
   "source": [
    "desvio = round(st.stdev(dados),3) #Escolha o número de casas decimais exibidas aqui\n",
    "print(f'Desvio Padrão: {desvio}')"
   ]
  },
  {
   "cell_type": "markdown",
   "metadata": {},
   "source": [
    "### Incerteza estatistica ou Desvio padrão da média $ \\sigma_{e} $\n",
    "### $$ \\sigma_{e} = \\frac{\\sigma}{\\sqrt{n}} $$\n",
    "Utilizado para avaliar a propragação dos erros nas medidas. "
   ]
  },
  {
   "cell_type": "code",
   "execution_count": 9,
   "metadata": {},
   "outputs": [
    {
     "name": "stdout",
     "output_type": "stream",
     "text": [
      "Incerteza estatística: 0.52\n"
     ]
    }
   ],
   "source": [
    "IE = st.stdev(dados) / (len(dados) ** (1 / 2))\n",
    "IEA = round(IE,2) #Escolha o número de casas decimais exibidas aqui\n",
    "print(f'Incerteza estatística: {IEA}')"
   ]
  },
  {
   "cell_type": "markdown",
   "metadata": {},
   "source": [
    "### Incerteza Residual $ \\sigma_{r} $\n",
    "### $$ \\sigma_{r} = \\frac{resolução}{2} $$\n",
    "**Resoulução**: Menor divisão que um instrumento pode representar.<br>\n",
    "A _Incerteza Residual_ avalia os erros em relação ao instrumento utilizado. \n",
    "**Caso não possua resolução insira 0(zero). \n",
    "### Incerteza Padrão ou Desvio final da média\n",
    "### $$ \\sigma_{p} = \\sqrt{\\sigma_{e}^2 + \\sigma_{r}^2} $$\n",
    "Obtido propagando as incertezas. "
   ]
  },
  {
   "cell_type": "code",
   "execution_count": 4,
   "metadata": {},
   "outputs": [
    {
     "name": "stdout",
     "output_type": "stream",
     "text": [
      "Resolução do instrumento: 0\n",
      "Incerteza Padrão: 0.52\n"
     ]
    }
   ],
   "source": [
    "r = float(input('Resolução do instrumento: '))\n",
    "IE = st.stdev(dados) / (len(dados) ** (1 / 2))\n",
    "IP = (IE ** 2 + (r/2) ** 2) ** (1 / 2)\n",
    "IPA = round(IP,2) #Escolha o número de casas decimais exibidas aqui\n",
    "print(f'Incerteza Padrão: {IPA}')"
   ]
  }
 ],
 "metadata": {
  "kernelspec": {
   "display_name": "Python 3",
   "language": "python",
   "name": "python3"
  },
  "language_info": {
   "codemirror_mode": {
    "name": "ipython",
    "version": 3
   },
   "file_extension": ".py",
   "mimetype": "text/x-python",
   "name": "python",
   "nbconvert_exporter": "python",
   "pygments_lexer": "ipython3",
   "version": "3.8.5"
  }
 },
 "nbformat": 4,
 "nbformat_minor": 4
}
